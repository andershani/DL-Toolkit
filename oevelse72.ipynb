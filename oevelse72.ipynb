{
  "nbformat": 4,
  "nbformat_minor": 0,
  "metadata": {
    "colab": {
      "name": "Untitled0.ipynb",
      "provenance": [],
      "authorship_tag": "ABX9TyMb/aKeEAzlACt5A+uHoLX2",
      "include_colab_link": true
    },
    "kernelspec": {
      "name": "python3",
      "display_name": "Python 3"
    }
  },
  "cells": [
    {
      "cell_type": "markdown",
      "metadata": {
        "id": "view-in-github",
        "colab_type": "text"
      },
      "source": [
        "<a href=\"https://colab.research.google.com/github/andershani/DL-Toolkit/blob/master/oevelse72.ipynb\" target=\"_parent\"><img src=\"https://colab.research.google.com/assets/colab-badge.svg\" alt=\"Open In Colab\"/></a>"
      ]
    },
    {
      "cell_type": "code",
      "metadata": {
        "id": "MaDzNGpdodCi",
        "colab_type": "code",
        "colab": {
          "base_uri": "https://localhost:8080/",
          "height": 283
        },
        "outputId": "fcaf75d6-3edb-4e80-e43e-c2ee9dec9ed2"
      },
      "source": [
        "print(\"Validering af øvelse 72\")\n",
        "import numpy as np\n",
        "from matplotlib import pyplot as plt\n",
        "# IGNORÉR ALT DET DER STÅR OVENOVER..\n",
        "\n",
        "# HER ER X VÆRDIERNE VI BRUGER, 100 PUNKTER JÆVNT FORDELT MELLEM -4 OG 4\n",
        "x=np.linspace(-4,4,100)\n",
        "\n",
        "# HER ER DE FUNKTIONER VI GERNE VIL HAVE PLOTTET\n",
        "y0=  2**x # dette er python notation for eksponent\n",
        "y1=0.5**x\n",
        "y2=1.2**x\n",
        "\n",
        "# HER DEFINERES PLOTS'NE\n",
        "plot0=plt.plot(x,y0)\n",
        "plot1=plt.plot(x,y1)\n",
        "# PRØV AT FJERN #'ET DER STÅR I STARTEN AF NÆSTE LINJE \n",
        "#plot2=plt.plot(x,y2)\n",
        "\n",
        "# NÅR MAN VIL KØRE DET HER, SÅ SKAL MAN TRYKKE CTRL+ENTER eller SHIFT+ENTER"
      ],
      "execution_count": 13,
      "outputs": [
        {
          "output_type": "stream",
          "text": [
            "Validering af øvelse 72\n"
          ],
          "name": "stdout"
        },
        {
          "output_type": "display_data",
          "data": {
            "image/png": "[encoded data removed]",
            "text/plain": [
              "<Figure size 432x288 with 1 Axes>"
            ]
          },
          "metadata": {
            "tags": [],
            "needs_background": "light"
          }
        }
      ]
    },
    {
      "cell_type": "code",
      "metadata": {
        "id": "E6yIOoLDonZW",
        "colab_type": "code",
        "colab": {}
      },
      "source": [
        ""
      ],
      "execution_count": 0,
      "outputs": []
    }
  ]
}